{
 "cells": [
  {
   "attachments": {},
   "cell_type": "markdown",
   "metadata": {},
   "source": [
    "# **k-Nearest Neighbor (k-NN) - Iris Dataset**"
   ]
  },
  {
   "attachments": {},
   "cell_type": "markdown",
   "metadata": {},
   "source": [
    "## **Introduction**"
   ]
  },
  {
   "attachments": {},
   "cell_type": "markdown",
   "metadata": {},
   "source": [
    "K-Nearest Neighbor (K-NN) ou apenas K vizinhos mais próximos é um algoritimo de inteligencia artificial e machine learning, é um método baseado em distâncias, é uma técnica que considera a proximidade entre dados nas realizações de predições.\n",
    "\n",
    "HIPÓTESE:\n",
    "Dados similares tendem a estar concentrados na mesma região no espaço de dispersão dos dados. \n",
    "\n",
    "INTUIÇÃO:\n",
    "Objetos relacionados ao mesmo conceito são semelhantes entre si.\n",
    "\n",
    "VANTAGEM:\n",
    "Pode ser usado para classificação como para regressão, sem alterações significativas."
   ]
  },
  {
   "attachments": {},
   "cell_type": "markdown",
   "metadata": {},
   "source": [
    "![image](iris-machinelearning.jpg)"
   ]
  }
 ],
 "metadata": {
  "language_info": {
   "name": "python"
  },
  "orig_nbformat": 4
 },
 "nbformat": 4,
 "nbformat_minor": 2
}
